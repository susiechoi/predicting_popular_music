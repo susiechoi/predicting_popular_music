{
 "cells": [
  {
   "cell_type": "code",
   "execution_count": 2,
   "metadata": {},
   "outputs": [],
   "source": [
    "# NOTE: This method was adapted from Will Koehrsen's guide to implementing Random Forest in Python (https://towardsdatascience.com/random-forest-in-python-24d0893d51c0)\n",
    "\n",
    "import numpy as np\n",
    "import pandas as pd\n",
    "import statsmodels.api as sm\n",
    "import matplotlib.pyplot as plt\n",
    "import random\n",
    "from sklearn.model_selection import train_test_split\n",
    "from sklearn.ensemble import RandomForestRegressor\n",
    "from sklearn.tree import export_graphviz\n",
    "%matplotlib inline"
   ]
  },
  {
   "cell_type": "code",
   "execution_count": 3,
   "metadata": {},
   "outputs": [
    {
     "data": {
      "text/plain": [
       "'Index,\\x82_\\x8fRank,Song,Artist,Year,Lyrics,ids,energy,liveness,tempo,speechiness,acousticness,instrumentalness,time_signature,danceability,key,duration_ms,loudness,valence,quartile\\r\\n'"
      ]
     },
     "execution_count": 3,
     "metadata": {},
     "output_type": "execute_result"
    }
   ],
   "source": [
    "f = open(\"data/FINAL_cleaned_output.csv\")\n",
    "f.readline()"
   ]
  },
  {
   "cell_type": "code",
   "execution_count": 4,
   "metadata": {},
   "outputs": [],
   "source": [
    "d = np.loadtxt(f, delimiter=\",\", usecols = (0, 1, 4, 7, 8, 9, 10, 11, 12, 13, 14, 15, 16, 17, 18, 19))"
   ]
  },
  {
   "cell_type": "code",
   "execution_count": 5,
   "metadata": {},
   "outputs": [
    {
     "data": {
      "text/html": [
       "<div>\n",
       "<style scoped>\n",
       "    .dataframe tbody tr th:only-of-type {\n",
       "        vertical-align: middle;\n",
       "    }\n",
       "\n",
       "    .dataframe tbody tr th {\n",
       "        vertical-align: top;\n",
       "    }\n",
       "\n",
       "    .dataframe thead th {\n",
       "        text-align: right;\n",
       "    }\n",
       "</style>\n",
       "<table border=\"1\" class=\"dataframe\">\n",
       "  <thead>\n",
       "    <tr style=\"text-align: right;\">\n",
       "      <th></th>\n",
       "      <th>index</th>\n",
       "      <th>rank</th>\n",
       "      <th>year</th>\n",
       "      <th>energy</th>\n",
       "      <th>liveness</th>\n",
       "      <th>tempo</th>\n",
       "      <th>speechiness</th>\n",
       "      <th>acousticness</th>\n",
       "      <th>instrumentalness</th>\n",
       "      <th>timesig</th>\n",
       "      <th>danceability</th>\n",
       "      <th>key</th>\n",
       "      <th>duration</th>\n",
       "      <th>loudness</th>\n",
       "      <th>valence</th>\n",
       "      <th>quartiles</th>\n",
       "    </tr>\n",
       "  </thead>\n",
       "  <tbody>\n",
       "    <tr>\n",
       "      <th>count</th>\n",
       "      <td>1274.000000</td>\n",
       "      <td>1274.000000</td>\n",
       "      <td>1274.000000</td>\n",
       "      <td>1274.000000</td>\n",
       "      <td>1274.000000</td>\n",
       "      <td>1274.000000</td>\n",
       "      <td>1274.000000</td>\n",
       "      <td>1274.000000</td>\n",
       "      <td>1274.000000</td>\n",
       "      <td>1274.000000</td>\n",
       "      <td>1274.000000</td>\n",
       "      <td>1274.000000</td>\n",
       "      <td>1274.000000</td>\n",
       "      <td>1274.000000</td>\n",
       "      <td>1274.000000</td>\n",
       "      <td>1274.000000</td>\n",
       "    </tr>\n",
       "    <tr>\n",
       "      <th>mean</th>\n",
       "      <td>785.591052</td>\n",
       "      <td>50.484301</td>\n",
       "      <td>2007.361068</td>\n",
       "      <td>0.690180</td>\n",
       "      <td>0.177648</td>\n",
       "      <td>120.143451</td>\n",
       "      <td>0.102686</td>\n",
       "      <td>0.157085</td>\n",
       "      <td>0.011261</td>\n",
       "      <td>3.982732</td>\n",
       "      <td>0.650279</td>\n",
       "      <td>5.140502</td>\n",
       "      <td>232058.603611</td>\n",
       "      <td>-5.906388</td>\n",
       "      <td>0.545966</td>\n",
       "      <td>2.502355</td>\n",
       "    </tr>\n",
       "    <tr>\n",
       "      <th>std</th>\n",
       "      <td>467.282818</td>\n",
       "      <td>29.357217</td>\n",
       "      <td>4.662524</td>\n",
       "      <td>0.165599</td>\n",
       "      <td>0.135908</td>\n",
       "      <td>28.494104</td>\n",
       "      <td>0.098734</td>\n",
       "      <td>0.199296</td>\n",
       "      <td>0.079076</td>\n",
       "      <td>0.253212</td>\n",
       "      <td>0.143762</td>\n",
       "      <td>3.553635</td>\n",
       "      <td>40722.787068</td>\n",
       "      <td>2.385913</td>\n",
       "      <td>0.224701</td>\n",
       "      <td>1.131736</td>\n",
       "    </tr>\n",
       "    <tr>\n",
       "      <th>min</th>\n",
       "      <td>0.000000</td>\n",
       "      <td>1.000000</td>\n",
       "      <td>2000.000000</td>\n",
       "      <td>0.016400</td>\n",
       "      <td>0.021000</td>\n",
       "      <td>57.107000</td>\n",
       "      <td>0.023600</td>\n",
       "      <td>0.000046</td>\n",
       "      <td>0.000000</td>\n",
       "      <td>0.000000</td>\n",
       "      <td>0.178000</td>\n",
       "      <td>0.000000</td>\n",
       "      <td>78200.000000</td>\n",
       "      <td>-32.580000</td>\n",
       "      <td>0.039600</td>\n",
       "      <td>1.000000</td>\n",
       "    </tr>\n",
       "    <tr>\n",
       "      <th>25%</th>\n",
       "      <td>375.250000</td>\n",
       "      <td>24.000000</td>\n",
       "      <td>2003.000000</td>\n",
       "      <td>0.584000</td>\n",
       "      <td>0.091500</td>\n",
       "      <td>96.971250</td>\n",
       "      <td>0.038000</td>\n",
       "      <td>0.017800</td>\n",
       "      <td>0.000000</td>\n",
       "      <td>4.000000</td>\n",
       "      <td>0.556250</td>\n",
       "      <td>2.000000</td>\n",
       "      <td>206233.250000</td>\n",
       "      <td>-6.978000</td>\n",
       "      <td>0.371250</td>\n",
       "      <td>1.000000</td>\n",
       "    </tr>\n",
       "    <tr>\n",
       "      <th>50%</th>\n",
       "      <td>784.500000</td>\n",
       "      <td>51.000000</td>\n",
       "      <td>2007.000000</td>\n",
       "      <td>0.709500</td>\n",
       "      <td>0.124000</td>\n",
       "      <td>119.969000</td>\n",
       "      <td>0.056850</td>\n",
       "      <td>0.069950</td>\n",
       "      <td>0.000000</td>\n",
       "      <td>4.000000</td>\n",
       "      <td>0.662500</td>\n",
       "      <td>5.000000</td>\n",
       "      <td>227993.500000</td>\n",
       "      <td>-5.475000</td>\n",
       "      <td>0.557000</td>\n",
       "      <td>3.000000</td>\n",
       "    </tr>\n",
       "    <tr>\n",
       "      <th>75%</th>\n",
       "      <td>1192.750000</td>\n",
       "      <td>76.000000</td>\n",
       "      <td>2011.000000</td>\n",
       "      <td>0.816750</td>\n",
       "      <td>0.225750</td>\n",
       "      <td>138.497250</td>\n",
       "      <td>0.131500</td>\n",
       "      <td>0.231000</td>\n",
       "      <td>0.000017</td>\n",
       "      <td>4.000000</td>\n",
       "      <td>0.749750</td>\n",
       "      <td>8.000000</td>\n",
       "      <td>252916.000000</td>\n",
       "      <td>-4.321250</td>\n",
       "      <td>0.729750</td>\n",
       "      <td>4.000000</td>\n",
       "    </tr>\n",
       "    <tr>\n",
       "      <th>max</th>\n",
       "      <td>1598.000000</td>\n",
       "      <td>100.000000</td>\n",
       "      <td>2015.000000</td>\n",
       "      <td>0.987000</td>\n",
       "      <td>0.854000</td>\n",
       "      <td>210.750000</td>\n",
       "      <td>0.576000</td>\n",
       "      <td>0.996000</td>\n",
       "      <td>0.947000</td>\n",
       "      <td>5.000000</td>\n",
       "      <td>0.969000</td>\n",
       "      <td>11.000000</td>\n",
       "      <td>484147.000000</td>\n",
       "      <td>-1.097000</td>\n",
       "      <td>0.967000</td>\n",
       "      <td>4.000000</td>\n",
       "    </tr>\n",
       "  </tbody>\n",
       "</table>\n",
       "</div>"
      ],
      "text/plain": [
       "             index         rank         year       energy     liveness  \\\n",
       "count  1274.000000  1274.000000  1274.000000  1274.000000  1274.000000   \n",
       "mean    785.591052    50.484301  2007.361068     0.690180     0.177648   \n",
       "std     467.282818    29.357217     4.662524     0.165599     0.135908   \n",
       "min       0.000000     1.000000  2000.000000     0.016400     0.021000   \n",
       "25%     375.250000    24.000000  2003.000000     0.584000     0.091500   \n",
       "50%     784.500000    51.000000  2007.000000     0.709500     0.124000   \n",
       "75%    1192.750000    76.000000  2011.000000     0.816750     0.225750   \n",
       "max    1598.000000   100.000000  2015.000000     0.987000     0.854000   \n",
       "\n",
       "             tempo  speechiness  acousticness  instrumentalness      timesig  \\\n",
       "count  1274.000000  1274.000000   1274.000000       1274.000000  1274.000000   \n",
       "mean    120.143451     0.102686      0.157085          0.011261     3.982732   \n",
       "std      28.494104     0.098734      0.199296          0.079076     0.253212   \n",
       "min      57.107000     0.023600      0.000046          0.000000     0.000000   \n",
       "25%      96.971250     0.038000      0.017800          0.000000     4.000000   \n",
       "50%     119.969000     0.056850      0.069950          0.000000     4.000000   \n",
       "75%     138.497250     0.131500      0.231000          0.000017     4.000000   \n",
       "max     210.750000     0.576000      0.996000          0.947000     5.000000   \n",
       "\n",
       "       danceability          key       duration     loudness      valence  \\\n",
       "count   1274.000000  1274.000000    1274.000000  1274.000000  1274.000000   \n",
       "mean       0.650279     5.140502  232058.603611    -5.906388     0.545966   \n",
       "std        0.143762     3.553635   40722.787068     2.385913     0.224701   \n",
       "min        0.178000     0.000000   78200.000000   -32.580000     0.039600   \n",
       "25%        0.556250     2.000000  206233.250000    -6.978000     0.371250   \n",
       "50%        0.662500     5.000000  227993.500000    -5.475000     0.557000   \n",
       "75%        0.749750     8.000000  252916.000000    -4.321250     0.729750   \n",
       "max        0.969000    11.000000  484147.000000    -1.097000     0.967000   \n",
       "\n",
       "         quartiles  \n",
       "count  1274.000000  \n",
       "mean      2.502355  \n",
       "std       1.131736  \n",
       "min       1.000000  \n",
       "25%       1.000000  \n",
       "50%       3.000000  \n",
       "75%       4.000000  \n",
       "max       4.000000  "
      ]
     },
     "execution_count": 5,
     "metadata": {},
     "output_type": "execute_result"
    }
   ],
   "source": [
    "features = pd.DataFrame(data=d)\n",
    "features.columns = ['index','rank',\"year\",\"energy\",\"liveness\",\"tempo\",\"speechiness\",\"acousticness\",\"instrumentalness\",\"timesig\",\"danceability\",\"key\",\"duration\",\"loudness\",\"valence\",\"quartiles\"]\n",
    "features.describe()"
   ]
  },
  {
   "cell_type": "code",
   "execution_count": 6,
   "metadata": {},
   "outputs": [
    {
     "data": {
      "text/html": [
       "<div>\n",
       "<style scoped>\n",
       "    .dataframe tbody tr th:only-of-type {\n",
       "        vertical-align: middle;\n",
       "    }\n",
       "\n",
       "    .dataframe tbody tr th {\n",
       "        vertical-align: top;\n",
       "    }\n",
       "\n",
       "    .dataframe thead th {\n",
       "        text-align: right;\n",
       "    }\n",
       "</style>\n",
       "<table border=\"1\" class=\"dataframe\">\n",
       "  <thead>\n",
       "    <tr style=\"text-align: right;\">\n",
       "      <th></th>\n",
       "      <th>energy</th>\n",
       "      <th>liveness</th>\n",
       "      <th>tempo</th>\n",
       "      <th>speechiness</th>\n",
       "      <th>acousticness</th>\n",
       "      <th>instrumentalness</th>\n",
       "      <th>timesig</th>\n",
       "      <th>danceability</th>\n",
       "      <th>key</th>\n",
       "      <th>duration</th>\n",
       "      <th>loudness</th>\n",
       "      <th>valence</th>\n",
       "    </tr>\n",
       "  </thead>\n",
       "  <tbody>\n",
       "    <tr>\n",
       "      <th>count</th>\n",
       "      <td>1274.000000</td>\n",
       "      <td>1274.000000</td>\n",
       "      <td>1274.000000</td>\n",
       "      <td>1274.000000</td>\n",
       "      <td>1274.000000</td>\n",
       "      <td>1274.000000</td>\n",
       "      <td>1274.000000</td>\n",
       "      <td>1274.000000</td>\n",
       "      <td>1274.000000</td>\n",
       "      <td>1274.000000</td>\n",
       "      <td>1274.000000</td>\n",
       "      <td>1274.000000</td>\n",
       "    </tr>\n",
       "    <tr>\n",
       "      <th>mean</th>\n",
       "      <td>0.690180</td>\n",
       "      <td>0.177648</td>\n",
       "      <td>120.143451</td>\n",
       "      <td>0.102686</td>\n",
       "      <td>0.157085</td>\n",
       "      <td>0.011261</td>\n",
       "      <td>3.982732</td>\n",
       "      <td>0.650279</td>\n",
       "      <td>5.140502</td>\n",
       "      <td>232058.603611</td>\n",
       "      <td>-5.906388</td>\n",
       "      <td>0.545966</td>\n",
       "    </tr>\n",
       "    <tr>\n",
       "      <th>std</th>\n",
       "      <td>0.165599</td>\n",
       "      <td>0.135908</td>\n",
       "      <td>28.494104</td>\n",
       "      <td>0.098734</td>\n",
       "      <td>0.199296</td>\n",
       "      <td>0.079076</td>\n",
       "      <td>0.253212</td>\n",
       "      <td>0.143762</td>\n",
       "      <td>3.553635</td>\n",
       "      <td>40722.787068</td>\n",
       "      <td>2.385913</td>\n",
       "      <td>0.224701</td>\n",
       "    </tr>\n",
       "    <tr>\n",
       "      <th>min</th>\n",
       "      <td>0.016400</td>\n",
       "      <td>0.021000</td>\n",
       "      <td>57.107000</td>\n",
       "      <td>0.023600</td>\n",
       "      <td>0.000046</td>\n",
       "      <td>0.000000</td>\n",
       "      <td>0.000000</td>\n",
       "      <td>0.178000</td>\n",
       "      <td>0.000000</td>\n",
       "      <td>78200.000000</td>\n",
       "      <td>-32.580000</td>\n",
       "      <td>0.039600</td>\n",
       "    </tr>\n",
       "    <tr>\n",
       "      <th>25%</th>\n",
       "      <td>0.584000</td>\n",
       "      <td>0.091500</td>\n",
       "      <td>96.971250</td>\n",
       "      <td>0.038000</td>\n",
       "      <td>0.017800</td>\n",
       "      <td>0.000000</td>\n",
       "      <td>4.000000</td>\n",
       "      <td>0.556250</td>\n",
       "      <td>2.000000</td>\n",
       "      <td>206233.250000</td>\n",
       "      <td>-6.978000</td>\n",
       "      <td>0.371250</td>\n",
       "    </tr>\n",
       "    <tr>\n",
       "      <th>50%</th>\n",
       "      <td>0.709500</td>\n",
       "      <td>0.124000</td>\n",
       "      <td>119.969000</td>\n",
       "      <td>0.056850</td>\n",
       "      <td>0.069950</td>\n",
       "      <td>0.000000</td>\n",
       "      <td>4.000000</td>\n",
       "      <td>0.662500</td>\n",
       "      <td>5.000000</td>\n",
       "      <td>227993.500000</td>\n",
       "      <td>-5.475000</td>\n",
       "      <td>0.557000</td>\n",
       "    </tr>\n",
       "    <tr>\n",
       "      <th>75%</th>\n",
       "      <td>0.816750</td>\n",
       "      <td>0.225750</td>\n",
       "      <td>138.497250</td>\n",
       "      <td>0.131500</td>\n",
       "      <td>0.231000</td>\n",
       "      <td>0.000017</td>\n",
       "      <td>4.000000</td>\n",
       "      <td>0.749750</td>\n",
       "      <td>8.000000</td>\n",
       "      <td>252916.000000</td>\n",
       "      <td>-4.321250</td>\n",
       "      <td>0.729750</td>\n",
       "    </tr>\n",
       "    <tr>\n",
       "      <th>max</th>\n",
       "      <td>0.987000</td>\n",
       "      <td>0.854000</td>\n",
       "      <td>210.750000</td>\n",
       "      <td>0.576000</td>\n",
       "      <td>0.996000</td>\n",
       "      <td>0.947000</td>\n",
       "      <td>5.000000</td>\n",
       "      <td>0.969000</td>\n",
       "      <td>11.000000</td>\n",
       "      <td>484147.000000</td>\n",
       "      <td>-1.097000</td>\n",
       "      <td>0.967000</td>\n",
       "    </tr>\n",
       "  </tbody>\n",
       "</table>\n",
       "</div>"
      ],
      "text/plain": [
       "            energy     liveness        tempo  speechiness  acousticness  \\\n",
       "count  1274.000000  1274.000000  1274.000000  1274.000000   1274.000000   \n",
       "mean      0.690180     0.177648   120.143451     0.102686      0.157085   \n",
       "std       0.165599     0.135908    28.494104     0.098734      0.199296   \n",
       "min       0.016400     0.021000    57.107000     0.023600      0.000046   \n",
       "25%       0.584000     0.091500    96.971250     0.038000      0.017800   \n",
       "50%       0.709500     0.124000   119.969000     0.056850      0.069950   \n",
       "75%       0.816750     0.225750   138.497250     0.131500      0.231000   \n",
       "max       0.987000     0.854000   210.750000     0.576000      0.996000   \n",
       "\n",
       "       instrumentalness      timesig  danceability          key  \\\n",
       "count       1274.000000  1274.000000   1274.000000  1274.000000   \n",
       "mean           0.011261     3.982732      0.650279     5.140502   \n",
       "std            0.079076     0.253212      0.143762     3.553635   \n",
       "min            0.000000     0.000000      0.178000     0.000000   \n",
       "25%            0.000000     4.000000      0.556250     2.000000   \n",
       "50%            0.000000     4.000000      0.662500     5.000000   \n",
       "75%            0.000017     4.000000      0.749750     8.000000   \n",
       "max            0.947000     5.000000      0.969000    11.000000   \n",
       "\n",
       "            duration     loudness      valence  \n",
       "count    1274.000000  1274.000000  1274.000000  \n",
       "mean   232058.603611    -5.906388     0.545966  \n",
       "std     40722.787068     2.385913     0.224701  \n",
       "min     78200.000000   -32.580000     0.039600  \n",
       "25%    206233.250000    -6.978000     0.371250  \n",
       "50%    227993.500000    -5.475000     0.557000  \n",
       "75%    252916.000000    -4.321250     0.729750  \n",
       "max    484147.000000    -1.097000     0.967000  "
      ]
     },
     "execution_count": 6,
     "metadata": {},
     "output_type": "execute_result"
    }
   ],
   "source": [
    "labels = np.array(features['quartiles'])\n",
    "original_features = list(features.columns)\n",
    "features = features.drop('rank', axis=1)\n",
    "features = features.drop('year', axis=1)\n",
    "features = features.drop('index', axis=1)\n",
    "features = features.drop('quartiles', axis=1)\n",
    "features.describe()"
   ]
  },
  {
   "cell_type": "code",
   "execution_count": 7,
   "metadata": {},
   "outputs": [],
   "source": [
    "feature_list = list(features.columns)\n",
    "\n",
    "features = np.array(features)"
   ]
  },
  {
   "cell_type": "code",
   "execution_count": 8,
   "metadata": {},
   "outputs": [],
   "source": [
    "train_features, test_features, train_labels, test_labels = train_test_split(features, labels, test_size = 0.2, random_state = 42)"
   ]
  },
  {
   "cell_type": "code",
   "execution_count": 9,
   "metadata": {},
   "outputs": [
    {
     "name": "stdout",
     "output_type": "stream",
     "text": [
      "('Training Features Shape:', (1019, 12))\n",
      "('Training Labels Shape:', (1019,))\n",
      "('Testing Features Shape:', (255, 12))\n",
      "('Testing Labels Shape:', (255,))\n"
     ]
    }
   ],
   "source": [
    "print('Training Features Shape:', train_features.shape)\n",
    "print('Training Labels Shape:', train_labels.shape)\n",
    "print('Testing Features Shape:', test_features.shape)\n",
    "print('Testing Labels Shape:', test_labels.shape)"
   ]
  },
  {
   "cell_type": "code",
   "execution_count": 10,
   "metadata": {},
   "outputs": [],
   "source": [
    "baseline_preds = [random.randint(1,4)*1.0 for i in range(len(test_features))]"
   ]
  },
  {
   "cell_type": "code",
   "execution_count": 11,
   "metadata": {},
   "outputs": [
    {
     "name": "stdout",
     "output_type": "stream",
     "text": [
      "('Average baseline error: ', 1.25)\n"
     ]
    }
   ],
   "source": [
    "baseline_errors = abs(baseline_preds - test_labels)\n",
    "print('Average baseline error: ', round(np.mean(baseline_errors), 2))"
   ]
  },
  {
   "cell_type": "code",
   "execution_count": 12,
   "metadata": {},
   "outputs": [
    {
     "data": {
      "text/plain": [
       "RandomForestRegressor(bootstrap=True, criterion='mse', max_depth=None,\n",
       "           max_features='auto', max_leaf_nodes=None,\n",
       "           min_impurity_decrease=0.0, min_impurity_split=None,\n",
       "           min_samples_leaf=1, min_samples_split=2,\n",
       "           min_weight_fraction_leaf=0.0, n_estimators=1000, n_jobs=1,\n",
       "           oob_score=False, random_state=42, verbose=0, warm_start=False)"
      ]
     },
     "execution_count": 12,
     "metadata": {},
     "output_type": "execute_result"
    }
   ],
   "source": [
    "rf = RandomForestRegressor(n_estimators = 1000, random_state = 42)\n",
    "rf.fit(train_features, train_labels)"
   ]
  },
  {
   "cell_type": "code",
   "execution_count": 13,
   "metadata": {},
   "outputs": [
    {
     "name": "stdout",
     "output_type": "stream",
     "text": [
      "('Mean Absolute Error:', 0.98)\n"
     ]
    }
   ],
   "source": [
    "predictions = rf.predict(test_features)\n",
    "errors = abs(predictions - test_labels)\n",
    "print('Mean Absolute Error:', round(np.mean(errors), 2))"
   ]
  },
  {
   "cell_type": "code",
   "execution_count": 17,
   "metadata": {},
   "outputs": [
    {
     "name": "stdout",
     "output_type": "stream",
     "text": [
      "('Accuracy:', 46.16, '%.')\n"
     ]
    }
   ],
   "source": [
    "mean_absolute_percent_error = 100 * (errors / test_labels)\n",
    "accuracy = 100 - np.mean(mean_absolute_percent_error)\n",
    "print('Accuracy:', round(accuracy, 2), '%.')"
   ]
  },
  {
   "cell_type": "code",
   "execution_count": 18,
   "metadata": {},
   "outputs": [
    {
     "name": "stdout",
     "output_type": "stream",
     "text": [
      "Variable: danceability         Importance: 0.12\n",
      "Variable: speechiness          Importance: 0.11\n",
      "Variable: liveness             Importance: 0.1\n",
      "Variable: tempo                Importance: 0.1\n",
      "Variable: acousticness         Importance: 0.1\n",
      "Variable: duration             Importance: 0.1\n",
      "Variable: loudness             Importance: 0.1\n",
      "Variable: valence              Importance: 0.1\n",
      "Variable: energy               Importance: 0.09\n",
      "Variable: key                  Importance: 0.06\n",
      "Variable: instrumentalness     Importance: 0.04\n",
      "Variable: timesig              Importance: 0.0\n"
     ]
    }
   ],
   "source": [
    "importances = list(rf.feature_importances_)\n",
    "feature_importances = [(feature, round(importance, 2)) for feature, importance in zip(feature_list, importances)]\n",
    "feature_importances = sorted(feature_importances, key = lambda x: x[1], reverse = True)\n",
    "\n",
    "sorted_features = []\n",
    "sorted_importances = []\n",
    "for pair in feature_importances:\n",
    "    print('Variable: {:20} Importance: {}'.format(*pair))\n",
    "    sorted_features.append(pair[0])\n",
    "    sorted_importances.append(pair[1])"
   ]
  },
  {
   "cell_type": "code",
   "execution_count": 19,
   "metadata": {},
   "outputs": [
    {
     "data": {
      "image/png": "[encoded data removed]",
      "text/plain": [
       "<matplotlib.figure.Figure at 0x1c0fff0a50>"
      ]
     },
     "metadata": {},
     "output_type": "display_data"
    }
   ],
   "source": [
    "plt.style.use('fivethirtyeight')\n",
    "x_values = list(range(len(importances)))\n",
    "plt.barh(x_values, list(reversed(sorted_importances)))\n",
    "plt.yticks(x_values, list(reversed(sorted_features)), rotation='horizontal')\n",
    "plt.xlabel('Importance'); plt.ylabel('Variable'); plt.title('Variable Importances');"
   ]
  }
 ],
 "metadata": {
  "kernelspec": {
   "display_name": "Python 2",
   "language": "python",
   "name": "python2"
  },
  "language_info": {
   "codemirror_mode": {
    "name": "ipython",
    "version": 2
   },
   "file_extension": ".py",
   "mimetype": "text/x-python",
   "name": "python",
   "nbconvert_exporter": "python",
   "pygments_lexer": "ipython2",
   "version": "2.7.14"
  }
 },
 "nbformat": 4,
 "nbformat_minor": 2
}
