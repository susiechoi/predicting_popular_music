{
 "cells": [
  {
   "cell_type": "markdown",
   "metadata": {},
   "source": [
    "### Notebook experimenting with Billboard Lyrics data"
   ]
  },
  {
   "cell_type": "code",
   "execution_count": 6,
   "metadata": {},
   "outputs": [
    {
     "name": "stderr",
     "output_type": "stream",
     "text": [
      "/home/vcm/.local/lib/python2.7/site-packages/psycopg2/__init__.py:144: UserWarning: The psycopg2 wheel package will be renamed from release 2.8; in order to keep installing from binary please use \"pip install psycopg2-binary\" instead. For details see: <http://initd.org/psycopg/docs/install.html#binary-install-from-pypi>.\n",
      "  \"\"\")\n"
     ]
    }
   ],
   "source": [
    "import psycopg2\n",
    "import csv\n",
    "conn = psycopg2.connect(host=\"localhost\", dbname=\"postgres\", user=\"postgres\", password=\"secret\")\n",
    "cur = conn.cursor()"
   ]
  },
  {
   "cell_type": "code",
   "execution_count": null,
   "metadata": {},
   "outputs": [],
   "source": [
    "# with open('billboard_lyrics.csv', 'r') as f:\n",
    "#     reader = csv.reader(f)\n",
    "#     next(reader)  # Skip the header row.\n",
    "#     for row in reader:\n",
    "#         cur.execute(\n",
    "#             \"INSERT INTO songs VALUES (%s, %s, %s, %s, %s, %s)\",\n",
    "#             row\n",
    "#         )\n",
    "# conn.commit()"
   ]
  },
  {
   "cell_type": "code",
   "execution_count": 7,
   "metadata": {},
   "outputs": [],
   "source": [
    "rankL = list()\n",
    "songL = list()\n",
    "artistL = list()\n",
    "yearL = list()\n",
    "lyricsL = list()\n",
    "topTen = list()\n",
    "\n",
    "cur.execute('''\n",
    "SELECT rank, song, artist, year, lyrics\n",
    "FROM songs\n",
    "WHERE year > 2010\n",
    "ORDER BY id;\n",
    "'''\n",
    ")\n",
    "\n",
    "for rank, song, artist, year, lyrics in cur:\n",
    "    rankL.append(rank)\n",
    "    songL.append(song)\n",
    "    artistL.append(artist)\n",
    "    yearL.append(year)\n",
    "    lyricsL.append(lyrics)\n",
    "    topTen.append(1 if rank <= 10 else 0)\n"
   ]
  },
  {
   "cell_type": "markdown",
   "metadata": {},
   "source": [
    "##### Import CSV and Set Up"
   ]
  },
  {
   "cell_type": "code",
   "execution_count": 42,
   "metadata": {},
   "outputs": [],
   "source": [
    "#!/usr/bin/env python\n",
    "\n",
    "import sys\n",
    "import codecs\n",
    "import csv\n",
    "import numpy\n",
    "from sklearn import cross_validation\n",
    "from sklearn.base import BaseEstimator\n",
    "from sklearn.feature_extraction.text import CountVectorizer\n",
    "\n",
    "\n",
    "vectorizer = CountVectorizer(binary=True, stop_words='english')\n",
    "vectorizer.fit(lyricsL)\n",
    "lyric_features = vectorizer.get_feature_names()\n",
    "X = vectorizer.transform(lyricsL)\n",
    "        \n",
    "        "
   ]
  },
  {
   "cell_type": "code",
   "execution_count": 43,
   "metadata": {},
   "outputs": [
    {
     "name": "stdout",
     "output_type": "stream",
     "text": [
      "500 instances\n",
      "10137 features\n"
     ]
    }
   ],
   "source": [
    "print '{} instances'.format(X.shape[0])\n",
    "print '{} features'.format(X.shape[1])"
   ]
  },
  {
   "cell_type": "code",
   "execution_count": 44,
   "metadata": {},
   "outputs": [],
   "source": [
    "X_train, X_test, rank_train, rank_test = cross_validation.train_test_split(X, topTen, test_size=0.33, random_state=216)"
   ]
  },
  {
   "cell_type": "code",
   "execution_count": 54,
   "metadata": {},
   "outputs": [
    {
     "name": "stdout",
     "output_type": "stream",
     "text": [
      "train accuracy: 0.9761\n",
      "test accuracy: 0.8788\n"
     ]
    }
   ],
   "source": [
    "from sklearn.naive_bayes import GaussianNB\n",
    "\n",
    "gnb = GaussianNB()\n",
    "gnb.fit(X_train.toarray(), numpy.asarray(rank_train))\n",
    "print 'train accuracy: {:.4f}'.format(gnb.score(X_train.toarray(), numpy.asarray(rank_train)))\n",
    "print 'test accuracy: {:.4f}'.format(gnb.score(X_test.toarray(), numpy.asarray(rank_test)))"
   ]
  },
  {
   "cell_type": "code",
   "execution_count": null,
   "metadata": {},
   "outputs": [],
   "source": []
  },
  {
   "cell_type": "code",
   "execution_count": 53,
   "metadata": {},
   "outputs": [
    {
     "name": "stdout",
     "output_type": "stream",
     "text": [
      "train accuracy: 0.9015\n",
      "test accuracy: 0.8970\n"
     ]
    }
   ],
   "source": [
    "from sklearn.naive_bayes import BernoulliNB\n",
    "\n",
    "bnb = BernoulliNB()\n",
    "bnb.fit(X_train.toarray(), numpy.asarray(rank_train))\n",
    "print 'train accuracy: {:.4f}'.format(bnb.score(X_train.toarray(), numpy.asarray(rank_train)))\n",
    "print 'test accuracy: {:.4f}'.format(bnb.score(X_test.toarray(), numpy.asarray(rank_test)))"
   ]
  },
  {
   "cell_type": "code",
   "execution_count": 45,
   "metadata": {},
   "outputs": [
    {
     "name": "stdout",
     "output_type": "stream",
     "text": [
      "train accuracy: 0.9463\n",
      "test accuracy: 0.8970\n"
     ]
    }
   ],
   "source": [
    "from sklearn.naive_bayes import MultinomialNB\n",
    "\n",
    "mnb = MultinomialNB()\n",
    "mnb.fit(X_train.toarray(), numpy.asarray(rank_train))\n",
    "print 'train accuracy: {:.4f}'.format(mnb.score(X_train.toarray(), numpy.asarray(rank_train)))\n",
    "print 'test accuracy: {:.4f}'.format(mnb.score(X_test.toarray(), numpy.asarray(rank_test)))"
   ]
  },
  {
   "cell_type": "code",
   "execution_count": 46,
   "metadata": {},
   "outputs": [
    {
     "name": "stdout",
     "output_type": "stream",
     "text": [
      "\t-9.4793\t082            \t\t-6.0781\tim             \n",
      "\t-9.4793\t10             \t\t-6.3012\tdont           \n",
      "\t-9.4793\t1000           \t\t-6.3438\tknow           \n",
      "\t-9.4793\t100000         \t\t-6.3883\tlike           \n",
      "\t-9.4793\t100k           \t\t-6.4348\tyoure          \n",
      "\t-9.4793\t10th           \t\t-6.4348\tlove           \n",
      "\t-9.4793\t12             \t\t-6.4348\tjust           \n",
      "\t-9.4793\t120            \t\t-6.4348\tgot            \n",
      "\t-9.4793\t123            \t\t-6.5889\tcause          \n",
      "\t-9.4793\t129            \t\t-6.6461\ttell           \n",
      "\t-9.4793\t15             \t\t-6.6461\till            \n",
      "\t-9.4793\t15000          \t\t-6.6461\tcome           \n",
      "\t-9.4793\t16             \t\t-6.7067\tright          \n",
      "\t-9.4793\t16s            \t\t-6.7067\toh             \n",
      "\t-9.4793\t17             \t\t-6.8402\tsong           \n",
      "\t-9.4793\t18             \t\t-6.8402\teditor         \n",
      "\t-9.4793\t18th           \t\t-6.8402\tbaby           \n",
      "\t-9.4793\t1982and        \t\t-6.9143\tway            \n",
      "\t-9.4793\t1989           \t\t-6.9143\tmake           \n",
      "\t-9.4793\t1if            \t\t-6.9944\tyeah           \n"
     ]
    }
   ],
   "source": [
    "n = 20\n",
    "coefs_with_fns = sorted(zip(mnb.coef_[0], lyric_features))\n",
    "top = zip(coefs_with_fns[:n], coefs_with_fns[:-(n + 1):-1])\n",
    "for (coef_1, fn_1), (coef_2, fn_2) in top:\n",
    "    print \"\\t%.4f\\t%-15s\\t\\t%.4f\\t%-15s\" % (coef_1, fn_1, coef_2, fn_2)"
   ]
  },
  {
   "cell_type": "code",
   "execution_count": 51,
   "metadata": {},
   "outputs": [],
   "source": [
    "from sklearn.svm import LinearSVC\n",
    "import matplotlib.pyplot as plt\n",
    "\n",
    "def plot_coefficients(classifier, feature_names, top_features=20):\n",
    "    coef = classifier.coef_.ravel()\n",
    "    top_positive_coefficients = numpy.argsort(coef)[-top_features:]\n",
    "    top_negative_coefficients = numpy.argsort(coef)[:top_features]\n",
    "    top_coefficients = numpy.hstack([top_negative_coefficients, top_positive_coefficients])\n",
    "    print(feature_names[i] for i in top_coefficients)\n",
    "    # create plot\n",
    "    plt.figure(figsize=(15, 5))\n",
    "    colors = ['red' if c < 0 else 'blue' for c in coef[top_coefficients]]\n",
    "    plt.bar(numpy.arange(2 * top_features), coef[top_coefficients], color=colors)\n",
    "    feature_names = numpy.array(feature_names)\n",
    "    plt.xticks(numpy.arange(1, 1 + 2 * top_features), feature_names[top_coefficients], rotation=60, ha='right')\n",
    "    plt.show()"
   ]
  },
  {
   "cell_type": "code",
   "execution_count": 52,
   "metadata": {},
   "outputs": [
    {
     "name": "stdout",
     "output_type": "stream",
     "text": [
      "<generator object <genexpr> at 0x7faad3798730>\n"
     ]
    },
    {
     "data": {
      "image/png": "[encoded data removed]",
      "text/plain": [
       "<matplotlib.figure.Figure at 0x7faad3746dd0>"
      ]
     },
     "metadata": {},
     "output_type": "display_data"
    }
   ],
   "source": [
    "svm = LinearSVC()\n",
    "svm.fit(X_train, rank_train)\n",
    "plot_coefficients(svm, lyric_features)"
   ]
  },
  {
   "cell_type": "code",
   "execution_count": 1,
   "metadata": {},
   "outputs": [
    {
     "name": "stdout",
     "output_type": "stream",
     "text": [
      "[nltk_data] Downloading package stopwords to /home/vcm/nltk_data...\n",
      "[nltk_data]   Package stopwords is already up-to-date!\n"
     ]
    },
    {
     "ename": "NameError",
     "evalue": "name 'stopwords' is not defined",
     "output_type": "error",
     "traceback": [
      "\u001b[0;31m---------------------------------------------------------------------------\u001b[0m",
      "\u001b[0;31mNameError\u001b[0m                                 Traceback (most recent call last)",
      "\u001b[0;32m<ipython-input-1-1fa5e4f5b9d3>\u001b[0m in \u001b[0;36m<module>\u001b[0;34m()\u001b[0m\n\u001b[1;32m      1\u001b[0m \u001b[0;32mimport\u001b[0m \u001b[0mnltk\u001b[0m\u001b[0;34m\u001b[0m\u001b[0m\n\u001b[1;32m      2\u001b[0m \u001b[0mnltk\u001b[0m\u001b[0;34m.\u001b[0m\u001b[0mdownload\u001b[0m\u001b[0;34m(\u001b[0m\u001b[0;34m'stopwords'\u001b[0m\u001b[0;34m)\u001b[0m\u001b[0;34m\u001b[0m\u001b[0m\n\u001b[0;32m----> 3\u001b[0;31m \u001b[0mstopWords\u001b[0m \u001b[0;34m=\u001b[0m \u001b[0mset\u001b[0m\u001b[0;34m(\u001b[0m\u001b[0mstopwords\u001b[0m\u001b[0;34m.\u001b[0m\u001b[0mwords\u001b[0m\u001b[0;34m(\u001b[0m\u001b[0;34m'english'\u001b[0m\u001b[0;34m)\u001b[0m\u001b[0;34m)\u001b[0m\u001b[0;34m\u001b[0m\u001b[0m\n\u001b[0m\u001b[1;32m      4\u001b[0m \u001b[0;32mprint\u001b[0m\u001b[0;34m(\u001b[0m\u001b[0mlen\u001b[0m\u001b[0;34m(\u001b[0m\u001b[0mstopWords\u001b[0m\u001b[0;34m)\u001b[0m\u001b[0;34m)\u001b[0m\u001b[0;34m\u001b[0m\u001b[0m\n\u001b[1;32m      5\u001b[0m \u001b[0;32mprint\u001b[0m\u001b[0;34m(\u001b[0m\u001b[0mstopWords\u001b[0m\u001b[0;34m)\u001b[0m\u001b[0;34m\u001b[0m\u001b[0m\n",
      "\u001b[0;31mNameError\u001b[0m: name 'stopwords' is not defined"
     ]
    }
   ],
   "source": [
    "import nltk\n",
    "nltk.download('stopwords')\n",
    "stopWords = set(stopwords.words('english'))\n",
    "print(len(stopWords))\n",
    "print(stopWords)"
   ]
  },
  {
   "cell_type": "code",
   "execution_count": 9,
   "metadata": {},
   "outputs": [],
   "source": [
    "from sklearn import cross_validation\n",
    "from sklearn.base import BaseEstimator\n",
    "from sklearn.feature_extraction.text import CountVectorizer\n",
    "\n",
    "vectorizer2 = CountVectorizer(binary=True, stop_words=stopWords)\n",
    "vectorizer2.fit(lyricsL)\n",
    "lyric_features2 = vectorizer2.get_feature_names()\n",
    "X2 = vectorizer2.transform(lyricsL)"
   ]
  },
  {
   "cell_type": "code",
   "execution_count": 10,
   "metadata": {},
   "outputs": [
    {
     "name": "stdout",
     "output_type": "stream",
     "text": [
      "500 instances\n",
      "10273 features\n"
     ]
    }
   ],
   "source": [
    "print '{} instances'.format(X2.shape[0])\n",
    "print '{} features'.format(X2.shape[1])"
   ]
  },
  {
   "cell_type": "code",
   "execution_count": null,
   "metadata": {},
   "outputs": [],
   "source": []
  }
 ],
 "metadata": {
  "kernelspec": {
   "display_name": "Python 2",
   "language": "python",
   "name": "python2"
  },
  "language_info": {
   "codemirror_mode": {
    "name": "ipython",
    "version": 2
   },
   "file_extension": ".py",
   "mimetype": "text/x-python",
   "name": "python",
   "nbconvert_exporter": "python",
   "pygments_lexer": "ipython2",
   "version": "2.7.12"
  }
 },
 "nbformat": 4,
 "nbformat_minor": 2
}
