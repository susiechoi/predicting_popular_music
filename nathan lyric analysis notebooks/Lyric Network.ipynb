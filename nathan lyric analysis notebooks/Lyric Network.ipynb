{
 "cells": [
  {
   "cell_type": "code",
   "execution_count": 30,
   "metadata": {},
   "outputs": [
    {
     "name": "stdout",
     "output_type": "stream",
     "text": [
      "False\n"
     ]
    }
   ],
   "source": [
    "import psycopg2\n",
    "import csv\n",
    "import sys\n",
    "import codecs\n",
    "import csv\n",
    "import numpy\n",
    "import networkx as nx\n",
    "import itertools\n",
    "from nltk.corpus import stopwords\n",
    "from nltk.corpus import words\n",
    "from sklearn import cross_validation\n",
    "from sklearn.base import BaseEstimator\n",
    "from sklearn.feature_extraction.text import CountVectorizer\n",
    "\n",
    "\n",
    "conn = psycopg2.connect(host=\"localhost\", dbname=\"postgres\", user=\"postgres\", password=\"secret\")\n",
    "cur = conn.cursor()\n",
    "\n",
    "\n",
    "stopWords = set(stopwords.words('english'))\n",
    "allWords = set(words.words())\n",
    "\n",
    "\n",
    "rankL = list()\n",
    "songL = list()\n",
    "artistL = list()\n",
    "yearL = list()\n",
    "lyricsL = list()\n",
    "topQuartile = list()\n",
    "\n",
    "cur.execute('''\n",
    "SELECT rank, song, artist, year, lyrics\n",
    "FROM songs\n",
    "WHERE year < 1990\n",
    "ORDER BY id;\n",
    "'''\n",
    ")\n",
    "\n",
    "for rank, song, artist, year, lyrics in cur:\n",
    "    rankL.append(rank)\n",
    "    songL.append(song)\n",
    "    artistL.append(artist)\n",
    "    yearL.append(year)\n",
    "    lyricswords = lyrics.split()\n",
    "    resultwords  = [word for word in lyricswords if (word.lower() in allWords and word.lower() not in stopWords)]\n",
    "    result = ' '.join(resultwords)\n",
    "    lyricsL.append(result)\n",
    "    topQuartile.append(1 if rank <= 25 else 0)\n",
    "\n",
    "\n",
    "vectorizer = CountVectorizer(binary=True, stop_words=None)\n",
    "vectorizer.fit(lyricsL)\n",
    "lyric_features = vectorizer.get_feature_names()\n",
    "X = vectorizer.transform(lyricsL)\n",
    "\n",
    "print('the' in lyric_features)\n",
    "\n",
    "\n"
   ]
  },
  {
   "cell_type": "code",
   "execution_count": 3,
   "metadata": {},
   "outputs": [
    {
     "name": "stdout",
     "output_type": "stream",
     "text": [
      "500 instances\n",
      "4309 features\n"
     ]
    }
   ],
   "source": [
    "noInstances = format(X.shape[0])\n",
    "print '{} instances'.format(X.shape[0])\n",
    "print '{} features'.format(X.shape[1])"
   ]
  },
  {
   "cell_type": "markdown",
   "metadata": {},
   "source": [
    "### Naive Bayes Test Accuracy 2010-2015"
   ]
  },
  {
   "cell_type": "code",
   "execution_count": 4,
   "metadata": {},
   "outputs": [],
   "source": [
    "X_train, X_test, rank_train, rank_test = cross_validation.train_test_split(X, topQuartile, test_size=0.33, random_state=216)"
   ]
  },
  {
   "cell_type": "code",
   "execution_count": 5,
   "metadata": {},
   "outputs": [
    {
     "name": "stdout",
     "output_type": "stream",
     "text": [
      "train accuracy: 0.9254\n",
      "test accuracy: 0.7152\n"
     ]
    }
   ],
   "source": [
    "from sklearn.naive_bayes import MultinomialNB\n",
    "\n",
    "mnb = MultinomialNB()\n",
    "mnb.fit(X_train.toarray(), numpy.asarray(rank_train))\n",
    "print 'train accuracy: {:.4f}'.format(mnb.score(X_train.toarray(), numpy.asarray(rank_train)))\n",
    "print 'test accuracy: {:.4f}'.format(mnb.score(X_test.toarray(), numpy.asarray(rank_test)))"
   ]
  },
  {
   "cell_type": "code",
   "execution_count": 6,
   "metadata": {},
   "outputs": [
    {
     "name": "stdout",
     "output_type": "stream",
     "text": [
      "\t-9.2045\tabbey          \t\t-5.1792\tdont           \n",
      "\t-9.2045\tabbot          \t\t-5.2342\tlike           \n",
      "\t-9.2045\table           \t\t-5.2727\tsee            \n",
      "\t-9.2045\tabroad         \t\t-5.3127\tlove           \n",
      "\t-9.2045\tabsurd         \t\t-5.3333\tknow           \n",
      "\t-9.2045\tacademy        \t\t-5.3979\tgot            \n",
      "\t-9.2045\taccent         \t\t-5.4433\toh             \n",
      "\t-9.2045\taccept         \t\t-5.4433\tget            \n",
      "\t-9.2045\tacceptance     \t\t-5.4910\tcause          \n",
      "\t-9.2045\taccount        \t\t-5.4910\tcant           \n",
      "\t-9.2045\taccountant     \t\t-5.6782\tgo             \n",
      "\t-9.2045\tache           \t\t-5.7080\tone            \n",
      "\t-9.2045\taching         \t\t-5.7388\tnever          \n",
      "\t-9.2045\tacrobat        \t\t-5.7388\tcome           \n",
      "\t-9.2045\tact            \t\t-5.7388\tback           \n",
      "\t-9.2045\tactin          \t\t-5.7705\tyeah           \n",
      "\t-9.2045\taction         \t\t-5.7705\tbaby           \n",
      "\t-9.2045\tactive         \t\t-5.8033\ttime           \n",
      "\t-9.2045\taddition       \t\t-5.8033\ttell           \n",
      "\t-9.2045\tadmiring       \t\t-5.8033\tsay            \n",
      "\t-9.2045\tadopted        \t\t-5.8372\tway            \n",
      "\t-9.2045\tadorable       \t\t-5.8372\till            \n",
      "\t-9.2045\tadore          \t\t-5.8723\tright          \n",
      "\t-9.2045\tadorn          \t\t-5.8723\tmake           \n",
      "\t-9.2045\tadultery       \t\t-5.8723\tlook           \n",
      "\t-9.2045\tadvance        \t\t-5.9087\twant           \n",
      "\t-9.2045\tadvantage      \t\t-5.9856\tlet            \n",
      "\t-9.2045\tadventure      \t\t-5.9856\tfeel           \n",
      "\t-9.2045\tadvice         \t\t-5.9856\taint           \n",
      "\t-9.2045\taffect         \t\t-6.0690\tcould          \n",
      "\t-9.2045\tafloat         \t\t-6.1135\tlife           \n",
      "\t-9.2045\taftermath      \t\t-6.1135\tgive           \n",
      "\t-9.2045\tafternoon      \t\t-6.1135\tgirl           \n",
      "\t-9.2045\tagenda         \t\t-6.1600\tthats          \n",
      "\t-9.2045\tagent          \t\t-6.1600\ttake           \n",
      "\t-9.2045\tagree          \t\t-6.1600\tneed           \n",
      "\t-9.2045\taid            \t\t-6.1600\tevery          \n",
      "\t-9.2045\taim            \t\t-6.2088\tsong           \n",
      "\t-9.2045\taiming         \t\t-6.2088\tgood           \n",
      "\t-9.2045\tairplane       \t\t-6.2088\teditor         \n",
      "\t-9.2045\tairport        \t\t-6.2601\twell           \n",
      "\t-9.2045\taisle          \t\t-6.2601\tthink          \n",
      "\t-9.2045\talarm          \t\t-6.2601\tstill          \n",
      "\t-9.2045\talcohol        \t\t-6.2601\tput            \n",
      "\t-9.2045\tale            \t\t-6.2601\tnothing        \n",
      "\t-9.2045\talienation     \t\t-6.2601\tmeaning        \n",
      "\t-9.2045\talign          \t\t-6.3142\tlight          \n",
      "\t-9.2045\talist          \t\t-6.3142\tkeep           \n",
      "\t-9.2045\talley          \t\t-6.3142\thold           \n",
      "\t-9.2045\talmighty       \t\t-6.3142\thard           \n",
      "\t-9.2045\talso           \t\t-6.3142\tcall           \n",
      "\t-9.2045\taluminum       \t\t-6.3713\twithout        \n",
      "\t-9.2045\tamarillo       \t\t-6.3713\tshow           \n",
      "\t-9.2045\tamazed         \t\t-6.3713\tsaid           \n",
      "\t-9.2045\tamazing        \t\t-6.3713\tlive           \n",
      "\t-9.2045\tamends         \t\t-6.3713\theart          \n",
      "\t-9.2045\tammonia        \t\t-6.4319\twont           \n",
      "\t-9.2045\tamnesia        \t\t-6.4319\tturn           \n",
      "\t-9.2045\tamor           \t\t-6.4319\tstop           \n",
      "\t-9.2045\tamount         \t\t-6.4319\tstay           \n",
      "\t-9.2045\tana            \t\t-6.4319\tnight          \n",
      "\t-9.2045\tanaconda       \t\t-6.4319\tfall           \n",
      "\t-9.2045\tancient        \t\t-6.4319\tbetter         \n",
      "\t-9.2045\tanna           \t\t-6.4319\taway           \n",
      "\t-9.2045\tanniversary    \t\t-6.4965\twould          \n",
      "\t-9.2045\tanonymous      \t\t-6.4965\tus             \n",
      "\t-9.2045\tanti           \t\t-6.4965\ttheres         \n",
      "\t-9.2045\tantidote       \t\t-6.4965\tsomething      \n",
      "\t-9.2045\tapartheid      \t\t-6.4965\treally         \n",
      "\t-9.2045\tapologize      \t\t-6.4965\tlooking        \n",
      "\t-9.2045\tapparel        \t\t-6.4965\tdidnt          \n",
      "\t-9.2045\tapparently     \t\t-6.4965\tbad            \n",
      "\t-9.2045\tappeal         \t\t-6.4965\talways         \n",
      "\t-9.2045\tappetite       \t\t-6.5655\tnew            \n",
      "\t-9.2045\tapplause       \t\t-6.5655\tlittle         \n",
      "\t-9.2045\tapple          \t\t-6.5655\thome           \n",
      "\t-9.2045\tapplication    \t\t-6.5655\thead           \n",
      "\t-9.2045\tappreciate     \t\t-6.5655\tever           \n",
      "\t-9.2045\tapproach       \t\t-6.5655\tday            \n",
      "\t-9.2045\tapron          \t\t-6.5655\tcare           \n",
      "\t-9.2045\tar             \t\t-6.6396\tworld          \n",
      "\t-9.2045\targue          \t\t-6.6396\tthought        \n",
      "\t-9.2045\tarmed          \t\t-6.6396\tside           \n",
      "\t-9.2045\tarmy           \t\t-6.6396\trun            \n",
      "\t-9.2045\tarrest         \t\t-6.6396\tmuch           \n",
      "\t-9.2045\tarrive         \t\t-6.6396\tmade           \n",
      "\t-9.2045\tarrow          \t\t-6.6396\tleave          \n",
      "\t-9.2045\tart            \t\t-6.6396\tgone           \n",
      "\t-9.2045\taside          \t\t-6.6396\tfeeling        \n",
      "\t-9.2045\tasleep         \t\t-6.6396\teverything     \n",
      "\t-9.2045\tasphalt        \t\t-6.6396\teven           \n",
      "\t-9.2045\tassistant      \t\t-6.6396\tcame           \n",
      "\t-9.2045\tassociated     \t\t-6.6396\taround         \n",
      "\t-9.2045\tassume         \t\t-6.7196\tya             \n",
      "\t-9.2045\tastray         \t\t-6.7196\ttwo            \n",
      "\t-9.2045\taswell         \t\t-6.7196\ttrying         \n",
      "\t-9.2045\tate            \t\t-6.7196\tplay           \n",
      "\t-9.2045\tatmosphere     \t\t-6.7196\tmoney          \n",
      "\t-9.2045\tattack         \t\t-6.7196\tlong           \n",
      "\t-9.2045\tattest         \t\t-6.7196\tlast           \n"
     ]
    }
   ],
   "source": [
    "n = 100\n",
    "topWords = list()\n",
    "coefs_with_fns = sorted(zip(mnb.coef_[0], lyric_features))\n",
    "top = zip(coefs_with_fns[:n], coefs_with_fns[:-(n + 1):-1])\n",
    "for (coef_1, fn_1), (coef_2, fn_2) in top:\n",
    "    print \"\\t%.4f\\t%-15s\\t\\t%.4f\\t%-15s\" % (coef_1, fn_1, coef_2, fn_2)\n",
    "    topWords.append(fn_2)"
   ]
  },
  {
   "cell_type": "code",
   "execution_count": 23,
   "metadata": {},
   "outputs": [],
   "source": [
    "G = nx.Graph(name=\"lyrics\")\n",
    "\n",
    "G.add_nodes_from(topWords)\n",
    "\n",
    "for a,b in itertools.combinations(topWords,2):\n",
    "    if(numpy.sum((X[:,lyric_features.index(a)] + X[:,lyric_features.index(b)]) == 2) > 50):\n",
    "        G.add_edge(a,b)\n",
    "            \n",
    "    "
   ]
  },
  {
   "cell_type": "code",
   "execution_count": 15,
   "metadata": {},
   "outputs": [
    {
     "name": "stdout",
     "output_type": "stream",
     "text": [
      "Graph has 100 nodes with 865 edges\n"
     ]
    }
   ],
   "source": [
    "print(\"Graph has %d nodes with %d edges\"\n",
    "          % (nx.number_of_nodes(G), nx.number_of_edges(G)))"
   ]
  },
  {
   "cell_type": "code",
   "execution_count": 24,
   "metadata": {},
   "outputs": [],
   "source": [
    "nx.write_gexf(G, '2010lyrics.gexf')"
   ]
  },
  {
   "cell_type": "markdown",
   "metadata": {},
   "source": [
    "### Naive Bayes Test Accuracy 1964-2015"
   ]
  },
  {
   "cell_type": "code",
   "execution_count": 27,
   "metadata": {},
   "outputs": [],
   "source": [
    "X_train, X_test, rank_train, rank_test = cross_validation.train_test_split(X, topQuartile, test_size=0.33, random_state=216)"
   ]
  },
  {
   "cell_type": "code",
   "execution_count": 28,
   "metadata": {},
   "outputs": [
    {
     "name": "stdout",
     "output_type": "stream",
     "text": [
      "train accuracy: 0.8338\n",
      "test accuracy: 0.7166\n"
     ]
    }
   ],
   "source": [
    "from sklearn.naive_bayes import MultinomialNB\n",
    "\n",
    "mnb = MultinomialNB()\n",
    "mnb.fit(X_train.toarray(), numpy.asarray(rank_train))\n",
    "print 'train accuracy: {:.4f}'.format(mnb.score(X_train.toarray(), numpy.asarray(rank_train)))\n",
    "print 'test accuracy: {:.4f}'.format(mnb.score(X_test.toarray(), numpy.asarray(rank_test)))"
   ]
  },
  {
   "cell_type": "code",
   "execution_count": 29,
   "metadata": {},
   "outputs": [
    {
     "name": "stdout",
     "output_type": "stream",
     "text": [
      "\t-10.9551\taa             \t\t-4.7465\tknow           \n",
      "\t-10.9551\taback          \t\t-4.7834\tlove           \n",
      "\t-10.9551\tabandon        \t\t-4.7876\tdont           \n",
      "\t-10.9551\tabandoned      \t\t-4.9077\tlike           \n",
      "\t-10.9551\tabbot          \t\t-5.0718\tsee            \n",
      "\t-10.9551\tabbreviation   \t\t-5.0746\tgot            \n",
      "\t-10.9551\tabdicate       \t\t-5.1116\tget            \n",
      "\t-10.9551\tabdominal      \t\t-5.1590\toh             \n",
      "\t-10.9551\tabduction      \t\t-5.1774\tbaby           \n",
      "\t-10.9551\tabide          \t\t-5.1899\ttime           \n",
      "\t-10.9551\tability        \t\t-5.1962\tcause          \n",
      "\t-10.9551\tabortion       \t\t-5.2153\tcant           \n",
      "\t-10.9551\tabounding      \t\t-5.2250\tsay            \n",
      "\t-10.9551\tabroad         \t\t-5.2414\tmake           \n",
      "\t-10.9551\tabruptly       \t\t-5.2447\tone            \n",
      "\t-10.9551\tabsence        \t\t-5.2547\tgo             \n",
      "\t-10.9551\tabsorb         \t\t-5.2715\tnever          \n",
      "\t-10.9551\tabsorbed       \t\t-5.3132\tway            \n",
      "\t-10.9551\tabsurd         \t\t-5.3239\tcome           \n",
      "\t-10.9551\tabut           \t\t-5.3275\twant           \n",
      "\t-10.9551\tacademy        \t\t-5.3604\tyeah           \n",
      "\t-10.9551\taccelerate     \t\t-5.3604\tlet            \n",
      "\t-10.9551\tacceptable     \t\t-5.4021\till            \n",
      "\t-10.9551\tacceptance     \t\t-5.4099\ttake           \n",
      "\t-10.9551\taccident       \t\t-5.4579\tfeel           \n",
      "\t-10.9551\taccomplished   \t\t-5.4703\tright          \n",
      "\t-10.9551\taccomplishment \t\t-5.4913\ttell           \n",
      "\t-10.9551\taccording      \t\t-5.5084\tneed           \n",
      "\t-10.9551\taccountant     \t\t-5.5938\tnight          \n",
      "\t-10.9551\taccurate       \t\t-5.5985\tback           \n",
      "\t-10.9551\taccusation     \t\t-5.6128\tthink          \n",
      "\t-10.9551\taccuse         \t\t-5.6128\theart          \n",
      "\t-10.9551\tace            \t\t-5.6128\tgirl           \n",
      "\t-10.9551\tache           \t\t-5.6176\tcould          \n",
      "\t-10.9551\tachy           \t\t-5.6272\tgive           \n",
      "\t-10.9551\tacid           \t\t-5.6419\tlife           \n",
      "\t-10.9551\tacknowledge    \t\t-5.6872\taint           \n",
      "\t-10.9551\tacme           \t\t-5.7240\tthats          \n",
      "\t-10.9551\tacquainted     \t\t-5.7511\tgood           \n",
      "\t-10.9551\tacquired       \t\t-5.7566\taway           \n",
      "\t-10.9551\tacre           \t\t-5.7846\taround         \n",
      "\t-10.9551\tacrobat        \t\t-5.7903\twell           \n",
      "\t-10.9551\tacta           \t\t-5.8018\tlook           \n",
      "\t-10.9551\tactivate       \t\t-5.8252\ttheres         \n",
      "\t-10.9551\tactive         \t\t-5.8252\tkeep           \n",
      "\t-10.9551\tactor          \t\t-5.8311\twont           \n",
      "\t-10.9551\tactress        \t\t-5.8862\tmind           \n",
      "\t-10.9551\tacute          \t\t-5.8862\tevery          \n",
      "\t-10.9551\tadapt          \t\t-5.8925\tday            \n",
      "\t-10.9551\tadded          \t\t-5.9052\tstill          \n",
      "\t-10.9551\taddict         \t\t-5.9117\tman            \n",
      "\t-10.9551\taddition       \t\t-5.9378\tsaid           \n",
      "\t-10.9551\tadditive       \t\t-5.9445\tworld          \n",
      "\t-10.9551\taddressee      \t\t-5.9715\tever           \n",
      "\t-10.9551\tadherence      \t\t-5.9993\tfind           \n",
      "\t-10.9551\tadhesive       \t\t-5.9993\talways         \n",
      "\t-10.9551\tadjust         \t\t-6.0135\twould          \n",
      "\t-10.9551\tadmirably      \t\t-6.0135\tlong           \n",
      "\t-10.9551\tadmiration     \t\t-6.0424\thold           \n",
      "\t-10.9551\tadmirer        \t\t-6.0573\treally         \n",
      "\t-10.9551\tadmiring       \t\t-6.0723\tlittle         \n",
      "\t-10.9551\tadmitted       \t\t-6.1511\tleave          \n",
      "\t-10.9551\tadopted        \t\t-6.1593\tput            \n",
      "\t-10.9551\tadorn          \t\t-6.1760\thome           \n",
      "\t-10.9551\tadown          \t\t-6.1929\tshow           \n",
      "\t-10.9551\tadrenaline     \t\t-6.1929\tmuch           \n",
      "\t-10.9551\tadrift         \t\t-6.2015\ttry            \n",
      "\t-10.9551\tadult          \t\t-6.2015\thear           \n",
      "\t-10.9551\tadultery       \t\t-6.2277\tbetter         \n",
      "\t-10.9551\tadvance        \t\t-6.2366\tstop           \n",
      "\t-10.9551\tadvanced       \t\t-6.2456\tus             \n",
      "\t-10.9551\tadvantage      \t\t-6.2456\tturn           \n",
      "\t-10.9551\tadventure      \t\t-6.2456\tthing          \n",
      "\t-10.9551\tadvertise      \t\t-6.2456\teven           \n",
      "\t-10.9551\tadvise         \t\t-6.2456\tbelieve        \n",
      "\t-10.9551\tadvised        \t\t-6.2546\tya             \n",
      "\t-10.9551\tafar           \t\t-6.2730\tcall           \n",
      "\t-10.9551\taffect         \t\t-6.3107\tid             \n",
      "\t-10.9551\taffected       \t\t-6.3301\thard           \n",
      "\t-10.9551\taffecting      \t\t-6.3499\twithout        \n",
      "\t-10.9551\taffectionate   \t\t-6.3499\tstay           \n",
      "\t-10.9551\taffectionately \t\t-6.3600\tnew            \n",
      "\t-10.9551\taffirmation    \t\t-6.3804\tyouve          \n",
      "\t-10.9551\taffirmative    \t\t-6.3804\treal           \n",
      "\t-10.9551\tafloat         \t\t-6.4012\ttogether       \n",
      "\t-10.9551\taflutter       \t\t-6.4012\teverything     \n",
      "\t-10.9551\taftertaste     \t\t-6.4118\tlive           \n",
      "\t-10.9551\taged           \t\t-6.4118\they            \n",
      "\t-10.9551\tagenda         \t\t-6.4225\tnothing        \n",
      "\t-10.9551\tagent          \t\t-6.4333\tsomething      \n",
      "\t-10.9551\taggravation    \t\t-6.4333\talone          \n",
      "\t-10.9551\taggressive     \t\t-6.4553\tplease         \n",
      "\t-10.9551\taging          \t\t-6.4553\tplay           \n",
      "\t-10.9551\tagony          \t\t-6.4778\tmine           \n",
      "\t-10.9551\tagreement      \t\t-6.4778\tfeeling        \n",
      "\t-10.9551\tagua           \t\t-6.4778\tanother        \n",
      "\t-10.9551\tahem           \t\t-6.4892\ttouch          \n",
      "\t-10.9551\taid            \t\t-6.4892\tgone           \n",
      "\t-10.9551\tairliner       \t\t-6.4892\tface           \n",
      "\t-10.9551\tairport        \t\t-6.5007\tplace          \n"
     ]
    }
   ],
   "source": [
    "n = 100\n",
    "topWords = list()\n",
    "coefs_with_fns = sorted(zip(mnb.coef_[0], lyric_features))\n",
    "top = zip(coefs_with_fns[:n], coefs_with_fns[:-(n + 1):-1])\n",
    "for (coef_1, fn_1), (coef_2, fn_2) in top:\n",
    "    print \"\\t%.4f\\t%-15s\\t\\t%.4f\\t%-15s\" % (coef_1, fn_1, coef_2, fn_2)\n",
    "    topWords.append(fn_2)"
   ]
  },
  {
   "cell_type": "markdown",
   "metadata": {},
   "source": [
    "### Naive Bayes Test Accuracy 1964-1990"
   ]
  },
  {
   "cell_type": "code",
   "execution_count": 31,
   "metadata": {},
   "outputs": [],
   "source": [
    "X_train, X_test, rank_train, rank_test = cross_validation.train_test_split(X, topQuartile, test_size=0.33, random_state=216)"
   ]
  },
  {
   "cell_type": "code",
   "execution_count": 32,
   "metadata": {},
   "outputs": [
    {
     "name": "stdout",
     "output_type": "stream",
     "text": [
      "train accuracy: 0.8382\n",
      "test accuracy: 0.7115\n"
     ]
    }
   ],
   "source": [
    "from sklearn.naive_bayes import MultinomialNB\n",
    "\n",
    "mnb = MultinomialNB()\n",
    "mnb.fit(X_train.toarray(), numpy.asarray(rank_train))\n",
    "print 'train accuracy: {:.4f}'.format(mnb.score(X_train.toarray(), numpy.asarray(rank_train)))\n",
    "print 'test accuracy: {:.4f}'.format(mnb.score(X_test.toarray(), numpy.asarray(rank_test)))"
   ]
  },
  {
   "cell_type": "code",
   "execution_count": 33,
   "metadata": {},
   "outputs": [
    {
     "name": "stdout",
     "output_type": "stream",
     "text": [
      "\t-10.0954\taa             \t\t-4.7109\tlove           \n",
      "\t-10.0954\taback          \t\t-4.8021\tknow           \n",
      "\t-10.0954\tabandon        \t\t-4.9537\tdont           \n",
      "\t-10.0954\tabandoned      \t\t-5.1256\tlike           \n",
      "\t-10.0954\tabdicate       \t\t-5.1256\tgot            \n",
      "\t-10.0954\tability        \t\t-5.1325\toh             \n",
      "\t-10.0954\table           \t\t-5.1901\tsee            \n",
      "\t-10.0954\taboard         \t\t-5.2356\tnever          \n",
      "\t-10.0954\tabounding      \t\t-5.2356\tcant           \n",
      "\t-10.0954\tabsence        \t\t-5.2512\ttime           \n",
      "\t-10.0954\tabsurd         \t\t-5.2832\tget            \n",
      "\t-10.0954\tabut           \t\t-5.2832\tbaby           \n",
      "\t-10.0954\taccent         \t\t-5.2996\tway            \n",
      "\t-10.0954\tacceptable     \t\t-5.2996\tone            \n",
      "\t-10.0954\taccomplished   \t\t-5.3079\tsay            \n",
      "\t-10.0954\taccount        \t\t-5.3418\tmake           \n",
      "\t-10.0954\taccurate       \t\t-5.3859\tgo             \n",
      "\t-10.0954\taccusation     \t\t-5.3859\tcome           \n",
      "\t-10.0954\taccuse         \t\t-5.4319\tyeah           \n",
      "\t-10.0954\taccused        \t\t-5.4319\till            \n",
      "\t-10.0954\tache           \t\t-5.4414\twant           \n",
      "\t-10.0954\tacoustic       \t\t-5.4510\tcause          \n",
      "\t-10.0954\tacquired       \t\t-5.4607\ttake           \n",
      "\t-10.0954\tacre           \t\t-5.4607\tneed           \n",
      "\t-10.0954\tacrobat        \t\t-5.4607\tlet            \n",
      "\t-10.0954\tactivate       \t\t-5.4704\tright          \n",
      "\t-10.0954\tactress        \t\t-5.4704\tfeel           \n",
      "\t-10.0954\tacute          \t\t-5.4902\tnight          \n",
      "\t-10.0954\tad             \t\t-5.5310\ttell           \n",
      "\t-10.0954\tadded          \t\t-5.5521\theart          \n",
      "\t-10.0954\tadherence      \t\t-5.6068\tcould          \n",
      "\t-10.0954\tadieu          \t\t-5.6527\taway           \n",
      "\t-10.0954\tadjust         \t\t-5.6765\ttheres         \n",
      "\t-10.0954\tadmiral        \t\t-5.6765\tlife           \n",
      "\t-10.0954\tadmiration     \t\t-5.7134\tgive           \n",
      "\t-10.0954\tadmiring       \t\t-5.7134\tday            \n",
      "\t-10.0954\tadmit          \t\t-5.7259\tlook           \n",
      "\t-10.0954\tadolescent     \t\t-5.7387\tgood           \n",
      "\t-10.0954\tadorable       \t\t-5.7913\tthats          \n",
      "\t-10.0954\tadown          \t\t-5.7913\tlong           \n",
      "\t-10.0954\tadult          \t\t-5.7913\tgirl           \n",
      "\t-10.0954\tadvanced       \t\t-5.7913\taround         \n",
      "\t-10.0954\tadvertise      \t\t-5.8049\twell           \n",
      "\t-10.0954\tadvise         \t\t-5.8049\tthink          \n",
      "\t-10.0954\tafloat         \t\t-5.8327\tsaid           \n",
      "\t-10.0954\taflutter       \t\t-5.8469\tmind           \n",
      "\t-10.0954\taftertaste     \t\t-5.8613\tfind           \n",
      "\t-10.0954\tafterwards     \t\t-5.8759\tworld          \n",
      "\t-10.0954\taged           \t\t-5.8907\twont           \n",
      "\t-10.0954\tagenda         \t\t-5.8907\treally         \n",
      "\t-10.0954\tagent          \t\t-5.9210\tevery          \n",
      "\t-10.0954\taging          \t\t-5.9210\tback           \n",
      "\t-10.0954\taglow          \t\t-5.9365\tstill          \n",
      "\t-10.0954\tagreement      \t\t-5.9523\tlittle         \n",
      "\t-10.0954\tagua           \t\t-5.9523\tkeep           \n",
      "\t-10.0954\tahem           \t\t-5.9683\tman            \n",
      "\t-10.0954\taid            \t\t-5.9683\thome           \n",
      "\t-10.0954\taiming         \t\t-6.0010\taint           \n",
      "\t-10.0954\tairliner       \t\t-6.0349\tmuch           \n",
      "\t-10.0954\tairplane       \t\t-6.0349\talways         \n",
      "\t-10.0954\tairport        \t\t-6.0700\tid             \n",
      "\t-10.0954\taisle          \t\t-6.0881\thold           \n",
      "\t-10.0954\tait            \t\t-6.1064\tever           \n",
      "\t-10.0954\tal             \t\t-6.1251\tyouve          \n",
      "\t-10.0954\talabaster      \t\t-6.1441\tus             \n",
      "\t-10.0954\talan           \t\t-6.1636\twould          \n",
      "\t-10.0954\talarm          \t\t-6.2036\tstay           \n",
      "\t-10.0954\talbatross      \t\t-6.2887\ttogether       \n",
      "\t-10.0954\talbum          \t\t-6.2887\they            \n",
      "\t-10.0954\talcohol        \t\t-6.2887\talone          \n",
      "\t-10.0954\talgebra        \t\t-6.3112\tpeople         \n",
      "\t-10.0954\talias          \t\t-6.3342\ttry            \n",
      "\t-10.0954\talibi          \t\t-6.3342\tsomeone        \n",
      "\t-10.0954\talien          \t\t-6.3342\tmine           \n",
      "\t-10.0954\talight         \t\t-6.3342\tleave          \n",
      "\t-10.0954\talike          \t\t-6.3342\thear           \n",
      "\t-10.0954\taller          \t\t-6.3577\tsweet          \n",
      "\t-10.0954\talley          \t\t-6.3577\tleft           \n",
      "\t-10.0954\talleyway       \t\t-6.4065\tput            \n",
      "\t-10.0954\talligator      \t\t-6.4065\tplace          \n",
      "\t-10.0954\talma           \t\t-6.4065\tmade           \n",
      "\t-10.0954\talmighty       \t\t-6.4065\tlight          \n",
      "\t-10.0954\taloose         \t\t-6.4318\tturn           \n",
      "\t-10.0954\talphabet       \t\t-6.4318\tstop           \n",
      "\t-10.0954\talso           \t\t-6.4318\tinside         \n",
      "\t-10.0954\taltar          \t\t-6.4318\tbetter         \n",
      "\t-10.0954\talter          \t\t-6.4318\tbelieve        \n",
      "\t-10.0954\tama            \t\t-6.4845\tsoul           \n",
      "\t-10.0954\tamaze          \t\t-6.4845\tnew            \n",
      "\t-10.0954\tamber          \t\t-6.4845\tlive           \n",
      "\t-10.0954\tambition       \t\t-6.4845\tgone           \n",
      "\t-10.0954\tambulance      \t\t-6.5119\twrong          \n",
      "\t-10.0954\tambush         \t\t-6.5119\tthing          \n",
      "\t-10.0954\tamen           \t\t-6.5119\tnothing        \n",
      "\t-10.0954\tamendment      \t\t-6.5119\tmust           \n",
      "\t-10.0954\tamends         \t\t-6.5119\thand           \n",
      "\t-10.0954\tamethyst       \t\t-6.5119\tfound          \n",
      "\t-10.0954\tami            \t\t-6.5400\twhats          \n",
      "\t-10.0954\tamid           \t\t-6.5400\ttwo            \n",
      "\t-10.0954\tamongst        \t\t-6.5400\tmany           \n"
     ]
    }
   ],
   "source": [
    "n = 100\n",
    "topWords = list()\n",
    "coefs_with_fns = sorted(zip(mnb.coef_[0], lyric_features))\n",
    "top = zip(coefs_with_fns[:n], coefs_with_fns[:-(n + 1):-1])\n",
    "for (coef_1, fn_1), (coef_2, fn_2) in top:\n",
    "    print \"\\t%.4f\\t%-15s\\t\\t%.4f\\t%-15s\" % (coef_1, fn_1, coef_2, fn_2)\n",
    "    topWords.append(fn_2)"
   ]
  },
  {
   "cell_type": "code",
   "execution_count": 26,
   "metadata": {},
   "outputs": [
    {
     "name": "stdout",
     "output_type": "stream",
     "text": [
      "[u'i', u'me', u'my', u'myself', u'we', u'our', u'ours', u'ourselves', u'you', u\"you're\", u\"you've\", u\"you'll\", u\"you'd\", u'your', u'yours', u'yourself', u'yourselves', u'he', u'him', u'his', u'himself', u'she', u\"she's\", u'her', u'hers', u'herself', u'it', u\"it's\", u'its', u'itself', u'they', u'them', u'their', u'theirs', u'themselves', u'what', u'which', u'who', u'whom', u'this', u'that', u\"that'll\", u'these', u'those', u'am', u'is', u'are', u'was', u'were', u'be', u'been', u'being', u'have', u'has', u'had', u'having', u'do', u'does', u'did', u'doing', u'a', u'an', u'the', u'and', u'but', u'if', u'or', u'because', u'as', u'until', u'while', u'of', u'at', u'by', u'for', u'with', u'about', u'against', u'between', u'into', u'through', u'during', u'before', u'after', u'above', u'below', u'to', u'from', u'up', u'down', u'in', u'out', u'on', u'off', u'over', u'under', u'again', u'further', u'then', u'once', u'here', u'there', u'when', u'where', u'why', u'how', u'all', u'any', u'both', u'each', u'few', u'more', u'most', u'other', u'some', u'such', u'no', u'nor', u'not', u'only', u'own', u'same', u'so', u'than', u'too', u'very', u's', u't', u'can', u'will', u'just', u'don', u\"don't\", u'should', u\"should've\", u'now', u'd', u'll', u'm', u'o', u're', u've', u'y', u'ain', u'aren', u\"aren't\", u'couldn', u\"couldn't\", u'didn', u\"didn't\", u'doesn', u\"doesn't\", u'hadn', u\"hadn't\", u'hasn', u\"hasn't\", u'haven', u\"haven't\", u'isn', u\"isn't\", u'ma', u'mightn', u\"mightn't\", u'mustn', u\"mustn't\", u'needn', u\"needn't\", u'shan', u\"shan't\", u'shouldn', u\"shouldn't\", u'wasn', u\"wasn't\", u'weren', u\"weren't\", u'won', u\"won't\", u'wouldn', u\"wouldn't\"]\n"
     ]
    }
   ],
   "source": [
    "from nltk.corpus import stopwords\n",
    "print(stopwords.words('english'))"
   ]
  },
  {
   "cell_type": "code",
   "execution_count": null,
   "metadata": {},
   "outputs": [],
   "source": []
  }
 ],
 "metadata": {
  "kernelspec": {
   "display_name": "Python 2",
   "language": "python",
   "name": "python2"
  },
  "language_info": {
   "codemirror_mode": {
    "name": "ipython",
    "version": 2
   },
   "file_extension": ".py",
   "mimetype": "text/x-python",
   "name": "python",
   "nbconvert_exporter": "python",
   "pygments_lexer": "ipython2",
   "version": "2.7.12"
  }
 },
 "nbformat": 4,
 "nbformat_minor": 2
}
